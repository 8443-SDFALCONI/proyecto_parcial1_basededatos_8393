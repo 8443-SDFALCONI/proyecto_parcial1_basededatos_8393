{
  "nbformat": 4,
  "nbformat_minor": 0,
  "metadata": {
    "colab": {
      "provenance": []
    },
    "kernelspec": {
      "name": "python3",
      "display_name": "Python 3"
    },
    "language_info": {
      "name": "python"
    }
  },
  "cells": [
    {
      "cell_type": "markdown",
      "source": [
        "**ENTIDAD pertenece**"
      ],
      "metadata": {
        "id": "3l2AN7z_YzHv"
      }
    },
    {
      "cell_type": "code",
      "execution_count": 1,
      "metadata": {
        "colab": {
          "base_uri": "https://localhost:8080/"
        },
        "id": "CB5lilQVYv4X",
        "outputId": "42273831-8e84-4803-f9ac-22424e469001"
      },
      "outputs": [
        {
          "output_type": "stream",
          "name": "stdout",
          "text": [
            "Looking in indexes: https://pypi.org/simple, https://us-python.pkg.dev/colab-wheels/public/simple/\n",
            "Collecting Faker\n",
            "  Downloading Faker-15.3.4-py3-none-any.whl (1.6 MB)\n",
            "\u001b[K     |████████████████████████████████| 1.6 MB 8.1 MB/s \n",
            "\u001b[?25hRequirement already satisfied: python-dateutil>=2.4 in /usr/local/lib/python3.8/dist-packages (from Faker) (2.8.2)\n",
            "Requirement already satisfied: six>=1.5 in /usr/local/lib/python3.8/dist-packages (from python-dateutil>=2.4->Faker) (1.15.0)\n",
            "Installing collected packages: Faker\n",
            "Successfully installed Faker-15.3.4\n"
          ]
        }
      ],
      "source": [
        "#Instalamos la libreria faker para la generación de nombres aleatorios. \n",
        "!pip install Faker"
      ]
    },
    {
      "cell_type": "code",
      "source": [
        "#Importamos las librerias necesarias para la generación de datos.\n",
        "#Importamos la libreria pandas para el manejo y estructuración de los datos sinteticos\n",
        "import pandas as pd\n",
        "#Importamos la libreria uuid para la generacion de codigos Ids propios\n",
        "import uuid\n",
        "#Importamos la libreria random para generacion de numeros randomicos\n",
        "import random\n",
        "#Importamos la libreria faker para generacion de nombres aleatorios\n",
        "from faker import Factory\n",
        "#Importamos la libreria datetime para las fechas\n",
        "import datetime\n",
        "# Cambiar la traducción de los datos sintéticos generados con la librería Faker\n",
        "fake = Factory.create(\"es-ES\")"
      ],
      "metadata": {
        "id": "LA1cTf4rY4ST"
      },
      "execution_count": 2,
      "outputs": []
    },
    {
      "cell_type": "code",
      "source": [
        "# Una lista de 3 atributos\n",
        "atributos = [\n",
        "    \"Id_Us\",\n",
        "    \"CC_As\",\n",
        "    \"Id_Exa\",\n",
        "]# Creamos un DF de los atributos\n",
        "df = pd.DataFrame(columns=atributos)"
      ],
      "metadata": {
        "id": "hnG9ehG0Y6pC"
      },
      "execution_count": 3,
      "outputs": []
    },
    {
      "cell_type": "code",
      "source": [
        "\"\"\"\n",
        "UUID1 permite generar un ID único a partir de una secuencia de números y el tiempo actual.\n",
        "\n",
        "Parámetros:\n",
        "------------------------------------------------------------------------------------------\n",
        "   No se envió parámetros\n",
        "\n",
        "Retorno: \n",
        "------------------------------------------------------------------------------------------\n",
        "    Secuencia de número de 14-bits\n",
        "\"\"\"\n",
        "# Asignar a una variable la cantidad de datos a generar\n",
        "numeroDatosSinteticos = 5000\n",
        "# Generar los 5000 IDs para los datos sintéticos y guardarlos en la columna del DataFrame\n",
        "df.Id_Us = [uuid.uuid1() for i in range(numeroDatosSinteticos)]"
      ],
      "metadata": {
        "id": "IlkDw-UhZDq1"
      },
      "execution_count": 4,
      "outputs": []
    },
    {
      "cell_type": "code",
      "source": [
        "\"\"\"\n",
        "UUID1 permite generar un ID único a partir de una secuencia de números y el tiempo actual.\n",
        "\n",
        "Parámetros:\n",
        "------------------------------------------------------------------------------------------\n",
        "    No se envió parámetros\n",
        "\n",
        "Retorno: \n",
        "------------------------------------------------------------------------------------------\n",
        "    Secuencia de número de 14-bits\n",
        "\"\"\"\n",
        "# Generar los 5000 IDs para los datos sintéticos y guardarlos en la columna del DataFrame\n",
        "df.CC_As = [random.randrange(100000000,2499999999) for i in range(numeroDatosSinteticos)]"
      ],
      "metadata": {
        "id": "el2oTiT1vZ63"
      },
      "execution_count": 5,
      "outputs": []
    },
    {
      "cell_type": "code",
      "source": [
        "\"\"\"\n",
        "UUID1 permite generar un ID único a partir de una secuencia de números y el tiempo actual.\n",
        "\n",
        "Parámetros:\n",
        "------------------------------------------------------------------------------------------\n",
        "   No se envió parámetros\n",
        "\n",
        "Retorno: \n",
        "------------------------------------------------------------------------------------------\n",
        "    Secuencia de número de 14-bits\n",
        "\"\"\"\n",
        "# Asignar a una variable la cantidad de datos a generar\n",
        "numeroDatosSinteticos = 5000\n",
        "# Generar los 5000 IDs para los datos sintéticos y guardarlos en la columna del DataFrame\n",
        "df.Id_Exa = [uuid.uuid1() for i in range(numeroDatosSinteticos)]"
      ],
      "metadata": {
        "id": "OtJ4MbSmZXal"
      },
      "execution_count": 6,
      "outputs": []
    },
    {
      "cell_type": "code",
      "source": [
        "# Crear el CSV a partir del DataFrame\n",
        "df.to_csv('pertenece.csv')"
      ],
      "metadata": {
        "id": "gIQHruJIZbmc"
      },
      "execution_count": 7,
      "outputs": []
    }
  ]
}