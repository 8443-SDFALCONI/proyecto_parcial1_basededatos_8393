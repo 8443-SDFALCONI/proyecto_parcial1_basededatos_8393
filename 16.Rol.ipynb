{
  "nbformat": 4,
  "nbformat_minor": 0,
  "metadata": {
    "colab": {
      "provenance": []
    },
    "kernelspec": {
      "name": "python3",
      "display_name": "Python 3"
    },
    "language_info": {
      "name": "python"
    }
  },
  "cells": [
    {
      "cell_type": "markdown",
      "source": [
        "**ENTIDAD Rol**"
      ],
      "metadata": {
        "id": "5YZBdN1rMqXq"
      }
    },
    {
      "cell_type": "code",
      "execution_count": 1,
      "metadata": {
        "colab": {
          "base_uri": "https://localhost:8080/"
        },
        "id": "TqCuHNpIMopS",
        "outputId": "e01ac957-3eaa-4273-f84e-e162c93bbdd5"
      },
      "outputs": [
        {
          "output_type": "stream",
          "name": "stdout",
          "text": [
            "Looking in indexes: https://pypi.org/simple, https://us-python.pkg.dev/colab-wheels/public/simple/\n",
            "Collecting Faker\n",
            "  Downloading Faker-15.3.4-py3-none-any.whl (1.6 MB)\n",
            "\u001b[K     |████████████████████████████████| 1.6 MB 4.3 MB/s \n",
            "\u001b[?25hRequirement already satisfied: python-dateutil>=2.4 in /usr/local/lib/python3.8/dist-packages (from Faker) (2.8.2)\n",
            "Requirement already satisfied: six>=1.5 in /usr/local/lib/python3.8/dist-packages (from python-dateutil>=2.4->Faker) (1.15.0)\n",
            "Installing collected packages: Faker\n",
            "Successfully installed Faker-15.3.4\n"
          ]
        }
      ],
      "source": [
        "#Instalamos la libreria faker para la generación de nombres aleatorios. \n",
        "!pip install Faker"
      ]
    },
    {
      "cell_type": "code",
      "source": [
        "#Importamos las librerias necesarias para la generación de datos.\n",
        "#Importamos la libreria pandas para el manejo y estructuración de los datos sinteticos\n",
        "import pandas as pd\n",
        "#Importamos la libreria uuid para la generacion de codigos Ids propios\n",
        "import uuid\n",
        "#Importamos la libreria random para generacion de numeros randomicos\n",
        "import random\n",
        "#Importamos la libreria faker para generacion de nombres aleatorios\n",
        "from faker import Factory\n",
        "#Importamos la libreria datetime para las fechas\n",
        "import datetime\n",
        "# Cambiar la traducción de los datos sintéticos generados con la librería Faker\n",
        "fake = Factory.create(\"es-ES\")"
      ],
      "metadata": {
        "id": "QuQrnz7dMwXt"
      },
      "execution_count": 2,
      "outputs": []
    },
    {
      "cell_type": "code",
      "source": [
        "# Una lista de 4 atributos\n",
        "atributos = [\n",
        "    \"Id_Rol\",\n",
        "    \"Tipo_Rol\",\n",
        "    \"Estado_Rol\",\n",
        "    \"Descrip_Rol\",\n",
        "]# Creamos un DF de los atributos\n",
        "df = pd.DataFrame(columns=atributos)"
      ],
      "metadata": {
        "id": "DoeCME7NMyP0"
      },
      "execution_count": 3,
      "outputs": []
    },
    {
      "cell_type": "code",
      "source": [
        "\"\"\"\n",
        "UUID1 permite generar un ID único a partir de una secuencia de números y el tiempo actual.\n",
        "\n",
        "Parámetros:\n",
        "------------------------------------------------------------------------------------------\n",
        "    No se envió parámetros\n",
        "\n",
        "Retorno: \n",
        "------------------------------------------------------------------------------------------\n",
        "    Secuencia de número de 14-bits\n",
        "\"\"\"\n",
        "# Asignar a una variable la cantidad de datos a generar\n",
        "numero_Rol = 3\n",
        "# Generar los 3 IDs para los datos sintéticos y guardarlos en la columna del DataFrame\n",
        "df.Id_Rol = [uuid.uuid1() for i in range(numero_Rol)]"
      ],
      "metadata": {
        "id": "iFwNZSBvM64j"
      },
      "execution_count": 4,
      "outputs": []
    },
    {
      "cell_type": "code",
      "source": [
        "\"\"\"\n",
        "\n",
        "Crear una columna del dataframe con los nombres de los roles del usuario\n",
        "\n",
        "Parámetros:\n",
        "------------------------------------------------------------------------------------------\n",
        "    No contiene parametros\n",
        "\n",
        "Retorno: \n",
        "------------------------------------------------------------------------------------------\n",
        "    El nombre de los roles del usuario\n",
        "\n",
        "\n",
        "\"\"\"\n",
        "#Crear los nombres de las provincias\n",
        "df.Tipo_Rol = [\"Administrador/a\",\"Secretario/a\",\"Call Center\"]"
      ],
      "metadata": {
        "id": "Islhf4H3NCOi"
      },
      "execution_count": 5,
      "outputs": []
    },
    {
      "cell_type": "code",
      "source": [
        "\"\"\"\n",
        "\n",
        "Choice es un módulo de la librería NumPy que permite seleccionar, de entre varias opciones, un valor al azar con una probabilidad determinada\n",
        "\n",
        "Parámetros:\n",
        "------------------------------------------------------------------------------------------\n",
        "    estadoOpciones: Valores que puede tomar el estado\n",
        "\n",
        "Retorno: \n",
        "------------------------------------------------------------------------------------------\n",
        "    Cadena de caracteres que incluye el estado del rol\n",
        "\n",
        "\n",
        "\"\"\"\n",
        "#Crear las opciones de estado\n",
        "estadoOpciones = [\"Activo\", \"Inactivo\"]\n",
        "# Generar los estados sintéticos\n",
        "for i in range(numero_Rol):\n",
        "  # Seleccionar de forma aleatoria uno de los estados\n",
        "  estado = random.choice(estadoOpciones)\n",
        "  # Guardar el estado en el DataFrame\n",
        "  df.Estado_Rol[i]=estado"
      ],
      "metadata": {
        "id": "RWr38_h5NTDn"
      },
      "execution_count": 6,
      "outputs": []
    },
    {
      "cell_type": "code",
      "source": [
        "\"\"\"\n",
        "\n",
        "Paragraph es un módulo de la librería Faker que permitegenerar párrafos con una o más oraciones sintéticas\n",
        "\n",
        "Parámetros:\n",
        "------------------------------------------------------------------------------------------\n",
        "    nb_sentences: El número de oraciones que se desea generar.\n",
        "\n",
        "Retorno: \n",
        "------------------------------------------------------------------------------------------\n",
        "    Cadena de caracteres que incluye la descripción de la sede en formato de Lorem Ipsum\n",
        "\n",
        "\"\"\"\n",
        "# Generar las descripciones sintéticas\n",
        "for i in range(numero_Rol):\n",
        "  # Crear un párrafo con tres oraciones\n",
        "  descripcion = fake.paragraph(nb_sentences=3)\n",
        "  #Guardar la descripción en el DataFrame\n",
        "  df.Descrip_Rol[i]=descripcion"
      ],
      "metadata": {
        "id": "R8tBOLXmNcMm"
      },
      "execution_count": 7,
      "outputs": []
    },
    {
      "cell_type": "code",
      "source": [
        "# Crear el CSV a partir del DataFrame\n",
        "df.to_csv('rol.csv')"
      ],
      "metadata": {
        "id": "r0qtFz9TNggt"
      },
      "execution_count": 8,
      "outputs": []
    }
  ]
}