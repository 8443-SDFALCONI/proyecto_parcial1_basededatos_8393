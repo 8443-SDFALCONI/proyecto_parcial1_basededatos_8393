{
  "nbformat": 4,
  "nbformat_minor": 0,
  "metadata": {
    "colab": {
      "provenance": []
    },
    "kernelspec": {
      "name": "python3",
      "display_name": "Python 3"
    },
    "language_info": {
      "name": "python"
    }
  },
  "cells": [
    {
      "cell_type": "markdown",
      "source": [
        "**ENTIDAD Usuario**"
      ],
      "metadata": {
        "id": "X6UcsK2b82rr"
      }
    },
    {
      "cell_type": "code",
      "execution_count": 10,
      "metadata": {
        "colab": {
          "base_uri": "https://localhost:8080/"
        },
        "id": "d7f1IfBrGgug",
        "outputId": "cda40be5-2f23-4282-b476-b2b66171c321"
      },
      "outputs": [
        {
          "output_type": "stream",
          "name": "stdout",
          "text": [
            "Looking in indexes: https://pypi.org/simple, https://us-python.pkg.dev/colab-wheels/public/simple/\n",
            "Requirement already satisfied: Faker in /usr/local/lib/python3.8/dist-packages (15.3.4)\n",
            "Requirement already satisfied: python-dateutil>=2.4 in /usr/local/lib/python3.8/dist-packages (from Faker) (2.8.2)\n",
            "Requirement already satisfied: six>=1.5 in /usr/local/lib/python3.8/dist-packages (from python-dateutil>=2.4->Faker) (1.15.0)\n"
          ]
        }
      ],
      "source": [
        "\"\"\"\n",
        "\n",
        "Importación de librerías y módulos requeridos para la generación de datos\n",
        "Pandas es una librería utilizada para el análisis de datos\n",
        "Faker es una librería que permite generar datos sintéticos o falsos\n",
        "uuid es una librería que permite crear id's\n",
        "numpy es una librería que permite gestionar matrices multidimensionales, y utilizar funciones matematicas\n",
        "random es una librería que permite generar números aleatorios\n",
        "datetime es una librería que permite crear horas y fechas\n",
        "Factory es un módulo de la librería faker que permite crear un objeto de tipo Faker y agregar el idioma regional que se desea utilizar\n",
        "\n",
        "\"\"\"\n",
        "#Instalar librería Faker para la generación de datos sintéticos\n",
        "!pip install Faker\n",
        "import pandas as pd\n",
        "from faker import Faker\n",
        "import uuid\n",
        "import numpy as np\n",
        "import random\n",
        "import datetime\n",
        "from faker import Factory\n",
        "\n",
        "# Cambiar la traducción de los datos sintéticos generados con la librería Faker\n",
        "fake = Factory.create(\"es-ES\")"
      ]
    },
    {
      "cell_type": "code",
      "source": [
        "\"\"\"\n",
        "Creación de dataframes utilizando la librería pandas\n",
        "DataFrame es un método que recibe uno o más parámetros según sea necesario. \n",
        "\n",
        "Parámetros:\n",
        "--------------------------------------------------------------------------\n",
        "\n",
        "columns:\n",
        "    Columnas del dataframe a crear\n",
        "\n",
        "Retorno:\n",
        "--------------------------------------------------------------------------\n",
        "    Se retorna un archivo de tipo dataframe de dos dimensiones.\n",
        "\"\"\"\n",
        "# Crear el dataframe con 7 columnas\n",
        "df = pd.DataFrame(columns=[\n",
        "    \"Id_Us\",\n",
        "    \"Nombres_Us\",\n",
        "    \"Apellidos_Us\",\n",
        "    \"Correo_Us\",\n",
        "    \"Estado_Us\",\n",
        "    \"Contra_Us\",\n",
        "    \"Nickname_Us\",\n",
        "    \"Genero_Us\",\n",
        "    \"Telefono_Us\",\n",
        "])"
      ],
      "metadata": {
        "id": "ZZBnyJ68Glo-"
      },
      "execution_count": 11,
      "outputs": []
    },
    {
      "cell_type": "code",
      "source": [
        "\"\"\"\n",
        "UUID1 permite generar un ID único a partir de una secuencia de números y el tiempo actual.\n",
        "\n",
        "Parámetros:\n",
        "------------------------------------------------------------------------------------------\n",
        "   No se envió parámetros\n",
        "\n",
        "Retorno: \n",
        "------------------------------------------------------------------------------------------\n",
        "    Secuencia de número de 14-bits\n",
        "\"\"\"\n",
        "# Asignar a una variable la cantidad de datos a generar\n",
        "numeroDatosSinteticos = 5000\n",
        "# Generar los 5000 IDs para los datos sintéticos y guardarlos en la columna del DataFrame\n",
        "df.Id_Us = [uuid.uuid1() for i in range(numeroDatosSinteticos)]"
      ],
      "metadata": {
        "id": "yc01gxNmG8ME"
      },
      "execution_count": 12,
      "outputs": []
    },
    {
      "cell_type": "code",
      "source": [
        "#Hacer que los ids sean unicos para cada usuario, y en caso de ser así \n",
        "#retornar True.\n",
        "print(df['Id_Us'].nunique()==numeroDatosSinteticos)"
      ],
      "metadata": {
        "colab": {
          "base_uri": "https://localhost:8080/"
        },
        "id": "DI5s-hvNHe4i",
        "outputId": "ae1ffb1c-2c33-42c1-cda0-ae79d1059ce1"
      },
      "execution_count": 13,
      "outputs": [
        {
          "output_type": "stream",
          "name": "stdout",
          "text": [
            "True\n"
          ]
        }
      ]
    },
    {
      "cell_type": "code",
      "source": [
        "\"\"\"\n",
        "\n",
        "first_name_male es un módulo de la librería Faker que permite  generar un primer nombre aleatorio para hombre\n",
        "\n",
        "Parámetros:\n",
        "------------------------------------------------------------------------------------------\n",
        "    No se enviaron parámetros\n",
        "\n",
        "Retorno: \n",
        "------------------------------------------------------------------------------------------\n",
        "    Cadena de caracteres que incluye el primer nombre para hombre\n",
        "    \n",
        "last_name_male es un módulo de la librería Faker que permite  generar un apellido aleatorio para hombre\n",
        "\n",
        "Parámetros:\n",
        "------------------------------------------------------------------------------------------\n",
        "    No se enviaron parámetros\n",
        "\n",
        "Retorno: \n",
        "------------------------------------------------------------------------------------------\n",
        "    Cadena de caracteres que incluye el apellido para hombre\n",
        "\n",
        "first_name_female es un módulo de la librería Faker que permite  generar un primer nombre aleatorio para mujer\n",
        "\n",
        "Parámetros:\n",
        "------------------------------------------------------------------------------------------\n",
        "    No se enviaron parámetros\n",
        "\n",
        "Retorno: \n",
        "------------------------------------------------------------------------------------------\n",
        "    Cadena de caracteres que incluye el primer nombre para mujer\n",
        "    \n",
        "last_name_female es un módulo de la librería Faker que permite  generar un apellido aleatorio para mujer\n",
        "\n",
        "Parámetros:\n",
        "------------------------------------------------------------------------------------------\n",
        "    No se enviaron parámetros\n",
        "\n",
        "Retorno: \n",
        "------------------------------------------------------------------------------------------\n",
        "    Cadena de caracteres que incluye el apellido para mujer\n",
        "\n",
        "lower es un módulo de la librería estandar de Python que permite convertir un texto completo a letras minúsculas\n",
        "\n",
        "Parámetros:\n",
        "------------------------------------------------------------------------------------------\n",
        "    No se enviaron parámetros\n",
        "\n",
        "Retorno: \n",
        "------------------------------------------------------------------------------------------\n",
        "    Cadena de caracteres con todas las letras en minúsculas\n",
        "\"\"\"\n",
        "# Crear una variable e inicializarla\n",
        "sexo = \"\"\n",
        "# Generar los nombres y apellidos, y el email aleatorio, así como el género del aspirante\n",
        "for i in range(numeroDatosSinteticos):\n",
        "  # Seleccionar de forma aleatoria un valor entre M para Male o hombre, y F para Female o mujer\n",
        "  sexo = np.random.choice([\"M\", \"F\"], p=[0.5, 0.5])\n",
        "  # Convertir el género del aspirante a tipo string\n",
        "  df.Genero_Us[i] = str(sexo)\n",
        "  # Generar nombres y apellidos en base al género del aspirante, en este caso para hombre\n",
        "  if sexo == \"M\":\n",
        "    # Generar el primer nombre y guardarlo en una variable\n",
        "    primer_nombre = fake.first_name_male()\n",
        "    # Generar el segundo nombre y guardarlo en una variable\n",
        "    segundo_nombre = fake.first_name_male()\n",
        "    # Generar el primer apellido y guardarlo en una variable\n",
        "    primer_apellido = fake.last_name_male()\n",
        "    # Generar el segundo apellido y guardarlo en una variable\n",
        "    segundo_apellido = fake.last_name_male()\n",
        "  # Generar nombres y apellidos en base al género del aspirante, en este caso para mujer\n",
        "  elif sexo == \"F\":\n",
        "    # Generar el primer nombre y guardarlo en una variable\n",
        "    primer_nombre = fake.first_name_female()\n",
        "    # Generar el segundo nombre y guardarlo en una variable\n",
        "    segundo_nombre = fake.first_name_female()\n",
        "    # Generar el primer apellido y guardarlo en una variable\n",
        "    primer_apellido = fake.last_name_female()\n",
        "    # Generar el segundo apellido y guardarlo en una variable\n",
        "    segundo_apellido = fake.last_name_female()\n",
        "  # Generar un correo electronico a partir del primer nombre y del primer apellido\n",
        "  email = f\"{primer_nombre}.{primer_apellido}@hotmail.com\"\n",
        "  # Concatenar el primer nombre y el segundo nombre para guardarlo en una variable llamado nombres\n",
        "  df.Nombres_Us[i] = primer_nombre + ' ' + segundo_nombre\n",
        "  # Concatenar el primer apellido y el segundo apellido para guardarlo en una variable llamado nombres\n",
        "  df.Apellidos_Us[i] = primer_apellido + ' ' + segundo_apellido\n",
        "  # Transformar el correo electronico a minúsculas\n",
        "  df.Correo_Us[i] = email.lower()"
      ],
      "metadata": {
        "id": "vZY8Y_gsLEFf"
      },
      "execution_count": 14,
      "outputs": []
    },
    {
      "cell_type": "code",
      "source": [
        "\"\"\"\n",
        "\n",
        "Choice es un módulo de la librería NumPy que permite seleccionar, de entre varias opciones, un valor al azar con una probabilidad determinada\n",
        "\n",
        "Parámetros:\n",
        "------------------------------------------------------------------------------------------\n",
        "    estadoOpciones: Valores que puede tomar el estado\n",
        "\n",
        "Retorno: \n",
        "------------------------------------------------------------------------------------------\n",
        "    Cadena de caracteres que incluye el estado del usuario\n",
        "\n",
        "\n",
        "\"\"\"\n",
        "#Crear las opciones de estado\n",
        "estadoOpciones = [\"Activo\", \"Inactivo\"]\n",
        "# Generar los estados sintéticos\n",
        "for i in range(numeroDatosSinteticos):\n",
        "  # Seleccionar de forma aleatoria uno de los estados\n",
        "  estado = random.choice(estadoOpciones)\n",
        "  # Guardar el estado en el DataFrame\n",
        "  df.Estado_Us[i]=estado"
      ],
      "metadata": {
        "id": "x7uns8nLLrqM"
      },
      "execution_count": 15,
      "outputs": []
    },
    {
      "cell_type": "code",
      "source": [
        "\"\"\"\n",
        "\n",
        "Username es un módulo de la librería Faker que permite generar nombres de usuario\n",
        "\n",
        "Parámetros:\n",
        "------------------------------------------------------------------------------------------\n",
        "    Ninguno\n",
        "\n",
        "Retorno: \n",
        "------------------------------------------------------------------------------------------\n",
        "    Cadena de caracteres con el username\n",
        "\n",
        "\n",
        "\"\"\"\n",
        "# Generar los estados sintéticos\n",
        "for i in range(numeroDatosSinteticos):\n",
        "  # Guardar el estado en el DataFrame\n",
        "  df.Nickname_Us[i]=fake.user_name()"
      ],
      "metadata": {
        "id": "zhiqkQ-BM03X"
      },
      "execution_count": 16,
      "outputs": []
    },
    {
      "cell_type": "code",
      "source": [
        "\"\"\"\n",
        "\n",
        "Password es un módulo de la librería Faker que permite generar contraseñas\n",
        "\n",
        "Parámetros:\n",
        "------------------------------------------------------------------------------------------\n",
        "    Ninguno\n",
        "\n",
        "Retorno: \n",
        "------------------------------------------------------------------------------------------\n",
        "    Cadena de caracteres con la contraseña\n",
        "\n",
        "\n",
        "\"\"\"\n",
        "# Generar los estados sintéticos\n",
        "for i in range(numeroDatosSinteticos):\n",
        "  # Guardar el estado en el DataFrame\n",
        "  df.Contra_Us[i]=fake.password()"
      ],
      "metadata": {
        "id": "w0M8d5oyMPSq"
      },
      "execution_count": 17,
      "outputs": []
    },
    {
      "cell_type": "code",
      "source": [
        "\"\"\"\n",
        "\n",
        "randint es un módulo de la librería random que permite  generar un valor aleatorio numérico de tipo entero\n",
        "\n",
        "Parámetros:\n",
        "------------------------------------------------------------------------------------------\n",
        "    valorInicial: El valor inicial del rango\n",
        "    valorFinal: El valor final del rango\n",
        "\n",
        "Retorno: \n",
        "------------------------------------------------------------------------------------------\n",
        "    Un número entero aleatorio\n",
        "\n",
        "\"\"\"\n",
        "# Generar los números de teléfono aleatorios\n",
        "for i in range(numeroDatosSinteticos):\n",
        "  # Colocar los dos primeros números que son comúnes en Ecuador\n",
        "  telefono = '09'\n",
        "  # Generar los números restantes seguidos del 09 que puede ser cualquier dígito entre 0 y 9\n",
        "  for _ in range(2, 10):\n",
        "    # Generar un dígito aleatorio entre 0 y 9 y concatenarlo con los dígitos anteriores\n",
        "    telefono = telefono + str(random.randint(0, 9))\n",
        "  # Guardar los valores del telefono en el DataFrame\n",
        "  df.Telefono_Us[i]=telefono"
      ],
      "metadata": {
        "id": "_F1J1JkJ9cf_"
      },
      "execution_count": 18,
      "outputs": []
    },
    {
      "cell_type": "code",
      "source": [
        "# Crear el CSV a partir del DataFrame\n",
        "df.to_csv('usuario.csv')"
      ],
      "metadata": {
        "id": "X36ekbpxLomF"
      },
      "execution_count": 19,
      "outputs": []
    },
    {
      "cell_type": "code",
      "source": [],
      "metadata": {
        "id": "Yo8jHyaoL0wu"
      },
      "execution_count": 19,
      "outputs": []
    }
  ]
}