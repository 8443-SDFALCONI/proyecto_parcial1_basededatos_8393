{
  "nbformat": 4,
  "nbformat_minor": 0,
  "metadata": {
    "colab": {
      "provenance": []
    },
    "kernelspec": {
      "name": "python3",
      "display_name": "Python 3"
    },
    "language_info": {
      "name": "python"
    }
  },
  "cells": [
    {
      "cell_type": "markdown",
      "source": [
        "**ENTIDAD Parametros**"
      ],
      "metadata": {
        "id": "UU7fxdBV_5qB"
      }
    },
    {
      "cell_type": "code",
      "execution_count": 1,
      "metadata": {
        "colab": {
          "base_uri": "https://localhost:8080/"
        },
        "id": "gKB_buSn1AX_",
        "outputId": "72129f6d-251b-4972-e2ca-6121ed65d6a3"
      },
      "outputs": [
        {
          "output_type": "stream",
          "name": "stdout",
          "text": [
            "Looking in indexes: https://pypi.org/simple, https://us-python.pkg.dev/colab-wheels/public/simple/\n",
            "Collecting Faker\n",
            "  Downloading Faker-15.3.4-py3-none-any.whl (1.6 MB)\n",
            "\u001b[K     |████████████████████████████████| 1.6 MB 18.8 MB/s \n",
            "\u001b[?25hRequirement already satisfied: python-dateutil>=2.4 in /usr/local/lib/python3.8/dist-packages (from Faker) (2.8.2)\n",
            "Requirement already satisfied: six>=1.5 in /usr/local/lib/python3.8/dist-packages (from python-dateutil>=2.4->Faker) (1.15.0)\n",
            "Installing collected packages: Faker\n",
            "Successfully installed Faker-15.3.4\n"
          ]
        }
      ],
      "source": [
        "\"\"\"\n",
        "\n",
        "Importación de librerías y módulos requeridos para la generación de datos\n",
        "Pandas es una librería utilizada para el análisis de datos\n",
        "Faker es una librería que permite generar datos sintéticos o falsos\n",
        "uuid es una librería que permite crear id's\n",
        "numpy es una librería que permite gestionar matrices multidimensionales, y utilizar funciones matematicas\n",
        "random es una librería que permite generar números aleatorios\n",
        "datetime es una librería que permite crear horas y fechas\n",
        "Factory es un módulo de la librería faker que permite crear un objeto de tipo Faker y agregar el idioma regional que se desea utilizar\n",
        "Ç*\n",
        "\"\"\"\n",
        "#Instalar librería Faker para la generación de datos sintéticos\n",
        "!pip install Faker\n",
        "import pandas as pd\n",
        "from faker import Faker\n",
        "import uuid\n",
        "import numpy as np\n",
        "import random\n",
        "import datetime\n",
        "from faker import Factory\n",
        "# Cambiar la traducción de los datos sintéticos generados con la librería Faker\n",
        "fake = Factory.create(\"es-ES\")"
      ]
    },
    {
      "cell_type": "code",
      "source": [
        "\"\"\"\n",
        "Creación de dataframes utilizando la librería pandas\n",
        "DataFrame es un método que recibe uno o más parámetros según sea necesario. \n",
        "\n",
        "Parámetros:\n",
        "--------------------------------------------------------------------------\n",
        "\n",
        "columns:\n",
        "    Columnas del dataframe a crear\n",
        "\n",
        "Retorno:\n",
        "--------------------------------------------------------------------------\n",
        "    Se retorna un archivo de tipo dataframe de dos dimensiones.\n",
        "\"\"\"\n",
        "# Crear el dataframe con 9 columnas\n",
        "df = pd.DataFrame(columns=[\n",
        "    \"ID_Parametros\",\n",
        "    \"Accion_Afir_Socioeco_Para\",\n",
        "    \"Accion_Afir_Terri_Para\",\n",
        "    \"Accion_Afir_Rural_Para\",\n",
        "    \"Accion_Afir_Vulnera_Para\",\n",
        "    \"Accion_Afir_Pueblos_Nacion_Para\",\n",
        "    \"Cupos_Oferta_Car_Para\",\n",
        "    \"Fecha_Cupos_Oferta_Car_Para\",\n",
        "    \"Puntaje_Refer_Car_Para\"\n",
        "])"
      ],
      "metadata": {
        "id": "YuBqaj-Q1D9J"
      },
      "execution_count": 2,
      "outputs": []
    },
    {
      "cell_type": "code",
      "source": [
        "\"\"\"\n",
        "UUID1 permite generar un ID único a partir de una secuencia de números y el tiempo actual.\n",
        "\n",
        "Parámetros:\n",
        "------------------------------------------------------------------------------------------\n",
        "   No se envió parámetros\n",
        "\n",
        "Retorno: \n",
        "------------------------------------------------------------------------------------------\n",
        "    Secuencia de número de 14-bits\n",
        "\"\"\"\n",
        "# Asignar a una variable la cantidad de datos a generar\n",
        "numeroDatosSinteticos = 5000\n",
        "# Generar los 5000 IDs para los datos sintéticos y guardarlos en la columna del DataFrame\n",
        "df.ID_Parametros = [uuid.uuid1() for i in range(numeroDatosSinteticos)]"
      ],
      "metadata": {
        "id": "Cch9L2TW1Gng"
      },
      "execution_count": 3,
      "outputs": []
    },
    {
      "cell_type": "code",
      "source": [
        "\"\"\"\n",
        "\n",
        "date_between es un módulo de la librería Faker que permite seleccionar una fecha al azar entre un rango de fechas determinadas.\n",
        "\n",
        "Parámetros:\n",
        "------------------------------------------------------------------------------------------\n",
        "    Fecha_inicio: Fecha de inicio del rango \n",
        "    Fecha_fin: Fecha de fin del rango\n",
        "\n",
        "Retorno: \n",
        "------------------------------------------------------------------------------------------\n",
        "    Fecha de tipo datetime\n",
        "\n",
        "\"\"\"\n",
        "# Ciclo for para generar las fechas sintéticas\n",
        "for i in range(numeroDatosSinteticos):\n",
        "  # Generar una fecha\n",
        "  para = fake.date_between(datetime.date(2022, 5, 1), datetime.date(2022, 12, 1))\n",
        "  # Guardar la fecha en el DataFrame\n",
        "  df.Fecha_Cupos_Oferta_Car_Para[i]=para"
      ],
      "metadata": {
        "id": "KbTTXhRG2LLd"
      },
      "execution_count": 4,
      "outputs": []
    },
    {
      "cell_type": "code",
      "source": [
        "\"\"\"\n",
        "\n",
        "randint es un módulo de la librería random que permite generar numeros aleatorios dentro de un rango\n",
        "\n",
        "Parámetros:\n",
        "------------------------------------------------------------------------------------------\n",
        "    Valor_Inicio: Fecha de inicio del rango \n",
        "    Valor_Fin: Fecha de fin del rango\n",
        "\n",
        "Retorno: \n",
        "------------------------------------------------------------------------------------------\n",
        "    Valor numérico aleatorio dentro de un rango\n",
        "\n",
        "\"\"\"\n",
        "# Generar los nombres de carrera\n",
        "for i in range(numeroDatosSinteticos):\n",
        "  # Generar datos sintéticos para el puntaje del examen\n",
        "  puntaje_referencial = random.randint(700, 1000)\n",
        "  # Guardar los nombres de carrera en el DataFrame\n",
        "  df.Puntaje_Refer_Car_Para[i] = puntaje_referencial"
      ],
      "metadata": {
        "id": "A171byjr2Sdk"
      },
      "execution_count": 5,
      "outputs": []
    },
    {
      "cell_type": "code",
      "source": [
        "\"\"\"\n",
        "\n",
        "randint es un módulo de la librería random que permite  generar un valor aleatorio numérico de tipo entero\n",
        "\n",
        "Parámetros:\n",
        "------------------------------------------------------------------------------------------\n",
        "    valorInicial: El valor inicial del rango\n",
        "    valorFinal: El valor final del rango\n",
        "\n",
        "Retorno: \n",
        "------------------------------------------------------------------------------------------\n",
        "    Un número entero aleatorio\n",
        "\n",
        "\"\"\"\n",
        "cupos_ofertados = 0\n",
        "# Generar los 5000 datos sintéticos del teléfono\n",
        "for i in range(numeroDatosSinteticos):\n",
        "    # Generar un dígito aleatorio entre 0 y 9 y concatenarlo con los dígitos anteriores\n",
        "    cupos_ofertados = random.randint(0, 50)\n",
        "  # Guardar los valores del telefono en el DataFrame\n",
        "    df.Cupos_Oferta_Car_Para[i]=cupos_ofertados"
      ],
      "metadata": {
        "id": "smp_w6aw2lPM"
      },
      "execution_count": 6,
      "outputs": []
    },
    {
      "cell_type": "code",
      "source": [
        "\"\"\"\n",
        "\n",
        "Choice es un módulo de la librería NumPy que permite seleccionar, de entre varias opciones, un valor al azar con una probabilidad determinada\n",
        "\n",
        "Parámetros:\n",
        "------------------------------------------------------------------------------------------\n",
        "    valoresOpciones: Valores que puede tomar\n",
        "\n",
        "Retorno: \n",
        "------------------------------------------------------------------------------------------\n",
        "    Cadena de caracteres\n",
        "\n",
        "\n",
        "\"\"\"\n",
        "# Crear las opciones de verdadero y falso\n",
        "valoresOpciones = [\"Verdadero\",\"Falso\"]\n",
        "\n",
        "# Generar sintéticamente el tipo de jornada para cada carrera\n",
        "for i in range(numeroDatosSinteticos):\n",
        "  # Generar el valor sintetico Verdadero o Falso en caso de que aplique o no esta condición afirmativa\n",
        "  df.Accion_Afir_Socioeco_Para[i]=random.choice(valoresOpciones)\n",
        "  # Generar el valor sintetico Verdadero o Falso en caso de que aplique o no esta condición afirmativa\n",
        "  df.Accion_Afir_Terri_Para[i]=random.choice(valoresOpciones)\n",
        "  # Generar el valor sintetico Verdadero o Falso en caso de que aplique o no esta condición afirmativa\n",
        "  df.Accion_Afir_Rural_Para[i]=random.choice(valoresOpciones)\n",
        "  # Generar el valor sintetico de 0 a 6 en caso de que aplique o no esta condición afirmativa, si es que aplica cuántas condiciones son aplicables (màximo 6)\n",
        "  df.Accion_Afir_Vulnera_Para[i]=random.randint(0, 6)\n",
        "  # Generar el valor sintetico Verdadero o Falso en caso de que aplique o no esta condición afirmativa\n",
        "  df.Accion_Afir_Pueblos_Nacion_Para[i]=random.choice(valoresOpciones)"
      ],
      "metadata": {
        "id": "9jIVoHHR20Q0"
      },
      "execution_count": 7,
      "outputs": []
    },
    {
      "cell_type": "code",
      "source": [
        "# Crear el CSV a partir del DataFrame\n",
        "df.to_csv('parametros.csv')"
      ],
      "metadata": {
        "id": "e4_5b8ly1NKy"
      },
      "execution_count": 8,
      "outputs": []
    },
    {
      "cell_type": "code",
      "source": [],
      "metadata": {
        "id": "pD4QAaB02KlY"
      },
      "execution_count": 8,
      "outputs": []
    }
  ]
}