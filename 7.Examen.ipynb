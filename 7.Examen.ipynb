{
  "nbformat": 4,
  "nbformat_minor": 0,
  "metadata": {
    "colab": {
      "provenance": []
    },
    "kernelspec": {
      "name": "python3",
      "display_name": "Python 3"
    },
    "language_info": {
      "name": "python"
    }
  },
  "cells": [
    {
      "cell_type": "markdown",
      "source": [
        "**ENTIDAD Examen**"
      ],
      "metadata": {
        "id": "plcuSqP75q_S"
      }
    },
    {
      "cell_type": "code",
      "execution_count": 8,
      "metadata": {
        "colab": {
          "base_uri": "https://localhost:8080/"
        },
        "id": "v2pmvnZDNSLG",
        "outputId": "9b36b66f-a4e3-4302-a6ca-2d0938c48992"
      },
      "outputs": [
        {
          "output_type": "stream",
          "name": "stdout",
          "text": [
            "Looking in indexes: https://pypi.org/simple, https://us-python.pkg.dev/colab-wheels/public/simple/\n",
            "Requirement already satisfied: Faker in /usr/local/lib/python3.8/dist-packages (15.3.4)\n",
            "Requirement already satisfied: python-dateutil>=2.4 in /usr/local/lib/python3.8/dist-packages (from Faker) (2.8.2)\n",
            "Requirement already satisfied: six>=1.5 in /usr/local/lib/python3.8/dist-packages (from python-dateutil>=2.4->Faker) (1.15.0)\n"
          ]
        }
      ],
      "source": [
        "\"\"\"\n",
        "\n",
        "Importación de librerías y módulos requeridos para la generación de datos\n",
        "Pandas es una librería utilizada para el análisis de datos\n",
        "Faker es una librería que permite generar datos sintéticos o falsos\n",
        "uuid es una librería que permite crear id's\n",
        "numpy es una librería que permite gestionar matrices multidimensionales, y utilizar funciones matematicas\n",
        "random es una librería que permite generar números aleatorios\n",
        "datetime es una librería que permite crear horas y fechas\n",
        "Factory es un módulo de la librería faker que permite crear un objeto de tipo Faker y agregar el idioma regional que se desea utilizar\n",
        "\n",
        "\"\"\"\n",
        "#Instalar librería Faker para la generación de datos sintéticos\n",
        "!pip install Faker\n",
        "import pandas as pd\n",
        "from faker import Faker\n",
        "import uuid\n",
        "import numpy as np\n",
        "import random\n",
        "import datetime\n",
        "from faker import Factory\n",
        "\n",
        "# Cambiar la traducción de los datos sintéticos generados con la librería Faker\n",
        "fake = Factory.create(\"es-ES\")"
      ]
    },
    {
      "cell_type": "code",
      "source": [
        "\"\"\"\n",
        "Creación de dataframes utilizando la librería pandas\n",
        "DataFrame es un método que recibe uno o más parámetros según sea necesario. \n",
        "\n",
        "Parámetros:\n",
        "--------------------------------------------------------------------------\n",
        "\n",
        "columns:\n",
        "    Columnas del dataframe a crear\n",
        "\n",
        "Retorno:\n",
        "--------------------------------------------------------------------------\n",
        "    Se retorna un archivo de tipo dataframe de dos dimensiones.\n",
        "\"\"\"\n",
        "# Crear el dataframe con 4 columnas\n",
        "df = pd.DataFrame(columns=[\n",
        "    \"ID_Exa\",\n",
        "    \"Fecha_Exa\",\n",
        "    \"Estado_Exa\",\n",
        "    \"Puntaje_Exa\"\n",
        "])\n"
      ],
      "metadata": {
        "id": "s4pdLuf-NWVH"
      },
      "execution_count": 9,
      "outputs": []
    },
    {
      "cell_type": "code",
      "source": [
        "\"\"\"\n",
        "UUID1 permite generar un ID único a partir de una secuencia de números y el tiempo actual.\n",
        "\n",
        "Parámetros:\n",
        "------------------------------------------------------------------------------------------\n",
        "   No se envió parámetros\n",
        "\n",
        "Retorno: \n",
        "------------------------------------------------------------------------------------------\n",
        "    Secuencia de número de 14-bits\n",
        "\"\"\"\n",
        "# Asignar a una variable la cantidad de datos a generar\n",
        "numeroDatosSinteticos = 5000\n",
        "# Generar los 5000 IDs para los datos sintéticos y guardarlos en la columna del DataFrame\n",
        "df.ID_Exa = [uuid.uuid1() for i in range(numeroDatosSinteticos)]"
      ],
      "metadata": {
        "id": "q4awpY3QNh4G"
      },
      "execution_count": 10,
      "outputs": []
    },
    {
      "cell_type": "code",
      "source": [
        "\"\"\"\n",
        "\n",
        "date_between es un módulo de la librería Faker que permite seleccionar una fecha al azar entre un rango de fechas determinadas.\n",
        "\n",
        "Parámetros:\n",
        "------------------------------------------------------------------------------------------\n",
        "    Fecha_inicio: Fecha de inicio del rango \n",
        "    Fecha_fin: Fecha de fin del rango\n",
        "\n",
        "Retorno: \n",
        "------------------------------------------------------------------------------------------\n",
        "    Fecha de tipo datetime\n",
        "\n",
        "\"\"\"\n",
        "# Ciclo for para generar las fechas sintéticas\n",
        "for i in range(numeroDatosSinteticos):\n",
        "  # Generar una fecha entre enero 01 de 1980 y enero 01 de 2007\n",
        "  Fecha_Examen = fake.date_between(datetime.date(2022, 1, 1), datetime.date(2022, 12, 1))\n",
        "  # Guardar la fecha en el DataFrame\n",
        "  df.Fecha_Exa[i]=Fecha_Examen"
      ],
      "metadata": {
        "id": "SCOn1rnTNjk-"
      },
      "execution_count": 11,
      "outputs": []
    },
    {
      "cell_type": "code",
      "source": [
        "\"\"\"\n",
        "\n",
        "Choice es un módulo de la librería NumPy que permite seleccionar, de entre varias opciones, un valor al azar con una probabilidad determinada\n",
        "\n",
        "Parámetros:\n",
        "------------------------------------------------------------------------------------------\n",
        "    estadoOpciones: Valores que puede tomar el estado\n",
        "\n",
        "Retorno: \n",
        "------------------------------------------------------------------------------------------\n",
        "    Cadena de caracteres que incluye el estado del examen\n",
        "\n",
        "\n",
        "\"\"\"\n",
        "#Crear las opciones de estado\n",
        "estadoOpciones = [\"Activo\", \"Inactivo\"]\n",
        "# Generar los estados sintéticos\n",
        "for i in range(numeroDatosSinteticos):\n",
        "  # Seleccionar de forma aleatoria uno de los estados\n",
        "  estado = random.choice(estadoOpciones)\n",
        "  # Guardar el estado en el DataFrame\n",
        "  df.Estado_Exa[i]=estado"
      ],
      "metadata": {
        "id": "R2d49sGQNvpQ"
      },
      "execution_count": 12,
      "outputs": []
    },
    {
      "cell_type": "code",
      "source": [
        "\"\"\"\n",
        "\n",
        "radint es un módulo de la librería NumPy que permite seleccionar, de entre varias opciones, un valor al azar con una probabilidad determinada\n",
        "\n",
        "Parámetros:\n",
        "------------------------------------------------------------------------------------------\n",
        "    numeroDatosSinteticos: Valores que puede tomar el estado\n",
        "\n",
        "Retorno: \n",
        "------------------------------------------------------------------------------------------\n",
        "    Cadena de caracteres que incluye el estado del examen\n",
        "\n",
        "\n",
        "\"\"\"\n",
        "# Generar los puntajes de carrera\n",
        "for i in range(numeroDatosSinteticos):\n",
        "  # Generar datos sintéticos para el puntaje del examen\n",
        "  puntaje_examen = random.randint(400, 1000)\n",
        "  # Guardar los puntajes de carrera en el DataFrame\n",
        "  df.Puntaje_Exa[i] = puntaje_examen"
      ],
      "metadata": {
        "id": "nEgq6j5zOba7"
      },
      "execution_count": 13,
      "outputs": []
    },
    {
      "cell_type": "code",
      "source": [
        "# Crear el CSV a partir del DataFrame\n",
        "df.to_csv('examen.csv')"
      ],
      "metadata": {
        "id": "ImEeHIeLN3fu"
      },
      "execution_count": 14,
      "outputs": []
    },
    {
      "cell_type": "code",
      "source": [],
      "metadata": {
        "id": "gMbcspJ0N5N-"
      },
      "execution_count": 14,
      "outputs": []
    }
  ]
}