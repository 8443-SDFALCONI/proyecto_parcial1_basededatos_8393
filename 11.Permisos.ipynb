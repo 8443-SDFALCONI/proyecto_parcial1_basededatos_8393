{
  "nbformat": 4,
  "nbformat_minor": 0,
  "metadata": {
    "colab": {
      "provenance": []
    },
    "kernelspec": {
      "name": "python3",
      "display_name": "Python 3"
    },
    "language_info": {
      "name": "python"
    }
  },
  "cells": [
    {
      "cell_type": "markdown",
      "source": [
        "**ENTIDAD Permisos**"
      ],
      "metadata": {
        "id": "OOPlJVw-Do4r"
      }
    },
    {
      "cell_type": "code",
      "execution_count": 1,
      "metadata": {
        "colab": {
          "base_uri": "https://localhost:8080/"
        },
        "id": "0BvvBQ-hDccK",
        "outputId": "619e697c-d2db-43d1-bf3f-d900088ea316"
      },
      "outputs": [
        {
          "output_type": "stream",
          "name": "stdout",
          "text": [
            "Looking in indexes: https://pypi.org/simple, https://us-python.pkg.dev/colab-wheels/public/simple/\n",
            "Collecting Faker\n",
            "  Downloading Faker-15.3.4-py3-none-any.whl (1.6 MB)\n",
            "\u001b[K     |████████████████████████████████| 1.6 MB 21.3 MB/s \n",
            "\u001b[?25hRequirement already satisfied: python-dateutil>=2.4 in /usr/local/lib/python3.8/dist-packages (from Faker) (2.8.2)\n",
            "Requirement already satisfied: six>=1.5 in /usr/local/lib/python3.8/dist-packages (from python-dateutil>=2.4->Faker) (1.15.0)\n",
            "Installing collected packages: Faker\n",
            "Successfully installed Faker-15.3.4\n"
          ]
        }
      ],
      "source": [
        "#Instalamos la libreria faker para la generación de nombres aleatorios. \n",
        "!pip install Faker"
      ]
    },
    {
      "cell_type": "code",
      "source": [
        "#Importamos las librerias necesarias para la generación de datos.\n",
        "#Importamos la libreria pandas para el manejo y estructuración de los datos sinteticos\n",
        "import pandas as pd\n",
        "#Importamos la libreria uuid para la generacion de codigos Ids propios\n",
        "import uuid\n",
        "#Importamos la libreria random para generacion de numeros randomicos\n",
        "import random\n",
        "#Importamos la libreria faker para generacion de nombres aleatorios\n",
        "from faker import Factory\n",
        "#Importamos la libreria datetime para las fechas\n",
        "import datetime\n",
        "# Cambiar la traducción de los datos sintéticos generados con la librería Faker\n",
        "fake = Factory.create(\"es-ES\")"
      ],
      "metadata": {
        "id": "MoBAs-QTDvFC"
      },
      "execution_count": 2,
      "outputs": []
    },
    {
      "cell_type": "code",
      "source": [
        "# Una lista de 4 atributos\n",
        "atributos = [\n",
        "    \"Id_Per\",\n",
        "    \"Tipo_Per\",\n",
        "    \"Estado_Per\",\n",
        "    \"Descrip_Per\",\n",
        "]# Creamos un DF de los atributos\n",
        "df = pd.DataFrame(columns=atributos)"
      ],
      "metadata": {
        "id": "fVkGcCJjDzQO"
      },
      "execution_count": 3,
      "outputs": []
    },
    {
      "cell_type": "code",
      "source": [
        "\"\"\"\n",
        "UUID1 permite generar un ID único a partir de una secuencia de números y el tiempo actual.\n",
        "\n",
        "Parámetros:\n",
        "------------------------------------------------------------------------------------------\n",
        "    No se envió parámetros\n",
        "\n",
        "Retorno: \n",
        "------------------------------------------------------------------------------------------\n",
        "    Secuencia de número de 14-bits\n",
        "\"\"\"\n",
        "# Asignar a una variable la cantidad de datos a generar\n",
        "numero_Per = 4\n",
        "# Generar los 4 IDs para los datos sintéticos y guardarlos en la columna del DataFrame\n",
        "df.Id_Per = [uuid.uuid1() for i in range(numero_Per)]"
      ],
      "metadata": {
        "id": "6QxPGGE8EFF8"
      },
      "execution_count": 4,
      "outputs": []
    },
    {
      "cell_type": "code",
      "source": [
        "\"\"\"\n",
        "\n",
        "Crear una columna del dataframe con los nombres de los 4 permisos del usuario\n",
        "\n",
        "Parámetros:\n",
        "------------------------------------------------------------------------------------------\n",
        "    No contiene parametros\n",
        "\n",
        "Retorno: \n",
        "------------------------------------------------------------------------------------------\n",
        "    El nombre de los permisos del usuario\n",
        "\n",
        "\n",
        "\"\"\"\n",
        "#Crear los nombres de los permisos\n",
        "df.Tipo_Per = [\"Crear\",\"Leer\",\"Modificar\",\"Eliminar\"]"
      ],
      "metadata": {
        "id": "51J-Pr_DEbxL"
      },
      "execution_count": 5,
      "outputs": []
    },
    {
      "cell_type": "code",
      "source": [
        "\"\"\"\n",
        "\n",
        "Choice es un módulo de la librería NumPy que permite seleccionar, de entre varias opciones, un valor al azar con una probabilidad determinada\n",
        "\n",
        "Parámetros:\n",
        "------------------------------------------------------------------------------------------\n",
        "    estadoOpciones: Valores que puede tomar el estado\n",
        "\n",
        "Retorno: \n",
        "------------------------------------------------------------------------------------------\n",
        "    Cadena de caracteres que incluye el estado del permiso\n",
        "\n",
        "\n",
        "\"\"\"\n",
        "#Crear las opciones de estado\n",
        "estadoOpciones = [\"Activo\", \"Inactivo\"]\n",
        "# Generar los estados sintéticos\n",
        "for i in range(numero_Per):\n",
        "  # Seleccionar de forma aleatoria uno de los estados\n",
        "  estado = random.choice(estadoOpciones)\n",
        "  # Guardar el estado en el DataFrame\n",
        "  df.Estado_Per[i]=estado"
      ],
      "metadata": {
        "id": "shOuoPQSL-JS"
      },
      "execution_count": 6,
      "outputs": []
    },
    {
      "cell_type": "code",
      "source": [
        "\"\"\"\n",
        "\n",
        "Paragraph es un módulo de la librería Faker que permitegenerar párrafos con una o más oraciones sintéticas\n",
        "\n",
        "Parámetros:\n",
        "------------------------------------------------------------------------------------------\n",
        "    nb_sentences: El número de oraciones que se desea generar.\n",
        "\n",
        "Retorno: \n",
        "------------------------------------------------------------------------------------------\n",
        "    Cadena de caracteres que incluye la descripción de la sede en formato de Lorem Ipsum\n",
        "\n",
        "\"\"\"\n",
        "# Generar las descripciones sintéticas\n",
        "for i in range(numero_Per):\n",
        "  # Crear un párrafo con tres oraciones\n",
        "  descripcion = fake.paragraph(nb_sentences=3)\n",
        "  #Guardar la descripción en el DataFrame\n",
        "  df.Descrip_Per[i]=descripcion"
      ],
      "metadata": {
        "id": "h2kw_LKbMd5A"
      },
      "execution_count": 7,
      "outputs": []
    },
    {
      "cell_type": "code",
      "source": [
        "# Crear el CSV a partir del DataFrame\n",
        "df.to_csv('permisos.csv')"
      ],
      "metadata": {
        "id": "isvA0i_3E2FT"
      },
      "execution_count": 8,
      "outputs": []
    }
  ]
}