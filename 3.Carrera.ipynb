{
  "cells": [
    {
      "cell_type": "markdown",
      "source": [
        "**ENTIDAD Carrera**"
      ],
      "metadata": {
        "id": "wOIBWn2y49e2"
      }
    },
    {
      "cell_type": "code",
      "execution_count": null,
      "metadata": {
        "colab": {
          "base_uri": "https://localhost:8080/"
        },
        "id": "Ddf4kGCp6A52",
        "outputId": "8390e91e-1018-43e9-df7c-94e64f4c717a"
      },
      "outputs": [
        {
          "output_type": "stream",
          "name": "stdout",
          "text": [
            "Looking in indexes: https://pypi.org/simple, https://us-python.pkg.dev/colab-wheels/public/simple/\n",
            "Collecting Faker\n",
            "  Downloading Faker-15.3.4-py3-none-any.whl (1.6 MB)\n",
            "\u001b[K     |████████████████████████████████| 1.6 MB 11.5 MB/s \n",
            "\u001b[?25hRequirement already satisfied: python-dateutil>=2.4 in /usr/local/lib/python3.8/dist-packages (from Faker) (2.8.2)\n",
            "Requirement already satisfied: six>=1.5 in /usr/local/lib/python3.8/dist-packages (from python-dateutil>=2.4->Faker) (1.15.0)\n",
            "Installing collected packages: Faker\n",
            "Successfully installed Faker-15.3.4\n"
          ]
        }
      ],
      "source": [
        "\"\"\"\n",
        "\n",
        "Importación de librerías y módulos requeridos para la generación de datos\n",
        "Pandas es una librería utilizada para el análisis de datos\n",
        "Faker es una librería que permite generar datos sintéticos o falsos\n",
        "uuid es una librería que permite crear id's\n",
        "numpy es una librería que permite gestionar matrices multidimensionales, y utilizar funciones matematicas\n",
        "random es una librería que permite generar números aleatorios\n",
        "datetime es una librería que permite crear horas y fechas\n",
        "Factory es un módulo de la librería faker que permite crear un objeto de tipo Faker y agregar el idioma regional que se desea utilizar\n",
        "\n",
        "\"\"\"\n",
        "#Instalar librería Faker para la generación de datos sintéticos\n",
        "!pip install Faker\n",
        "import pandas as pd\n",
        "from faker import Faker\n",
        "import uuid\n",
        "import numpy as np\n",
        "import random\n",
        "import datetime\n",
        "from faker import Factory\n",
        "# Cambiar la traducción de los datos sintéticos generados con la librería Faker\n",
        "fake = Factory.create(\"es-ES\")"
      ]
    },
    {
      "cell_type": "code",
      "execution_count": null,
      "metadata": {
        "id": "cnNBjQIB6GYn"
      },
      "outputs": [],
      "source": [
        "\"\"\"\n",
        "Creación de dataframes utilizando la librería pandas\n",
        "DataFrame es un método que recibe uno o más parámetros según sea necesario. \n",
        "\n",
        "Parámetros:\n",
        "--------------------------------------------------------------------------\n",
        "\n",
        "columns:\n",
        "    Columnas del dataframe a crear\n",
        "\n",
        "Retorno:\n",
        "--------------------------------------------------------------------------\n",
        "    Se retorna un archivo de tipo dataframe de dos dimensiones.\n",
        "\"\"\"\n",
        "# Crear el dataframe con 7 columnas\n",
        "df = pd.DataFrame(columns=[\n",
        "    \"Id_Car\",\n",
        "    \"Nombre_Car\",\n",
        "    \"Descrip_Car\",\n",
        "    \"Estado_Car\",\n",
        "    \"Fecha_Vigencia_Car\",\n",
        "    \"Modalidad_Car\",\n",
        "    \"Jornada_Car\",\n",
        "\n",
        "])"
      ]
    },
    {
      "cell_type": "code",
      "execution_count": null,
      "metadata": {
        "id": "4bVME_Wb6mVQ"
      },
      "outputs": [],
      "source": [
        "\"\"\"\n",
        "UUID1 permite generar un ID único a partir de una secuencia de números y el tiempo actual.\n",
        "\n",
        "Parámetros:\n",
        "------------------------------------------------------------------------------------------\n",
        "   No se envió parámetros\n",
        "\n",
        "Retorno: \n",
        "------------------------------------------------------------------------------------------\n",
        "    Secuencia de número de 14-bits\n",
        "\"\"\"\n",
        "# Asignar a una variable la cantidad de datos a generar\n",
        "numeroDatosSinteticos = 5000\n",
        "# Generar los 5000 IDs para los datos sintéticos y guardarlos en la columna del DataFrame\n",
        "df.Id_Car = [uuid.uuid1() for i in range(numeroDatosSinteticos)]"
      ]
    },
    {
      "cell_type": "code",
      "execution_count": null,
      "metadata": {
        "id": "0PckGACV6uXW"
      },
      "outputs": [],
      "source": [
        "\"\"\"\n",
        "UUID1 permite generar un ID único a partir de una secuencia de números y el tiempo actual.\n",
        "\n",
        "Parámetros:\n",
        "------------------------------------------------------------------------------------------\n",
        "    No se envió parámetros\n",
        "\n",
        "Retorno: \n",
        "------------------------------------------------------------------------------------------\n",
        "    Secuencia de número de 14-bits\n",
        "\n",
        "Job es un módulo de la librería Faker que permite generar el nombre de una profesión.\n",
        "\n",
        "Parámetros:\n",
        "------------------------------------------------------------------------------------------\n",
        "    No se envió parámetros\n",
        "\n",
        "Retorno: \n",
        "------------------------------------------------------------------------------------------\n",
        "    Cadena de caracteres que incluye el nombre de la profesión\n",
        "\n",
        "Choice es un módulo de la librería NumPy que permite seleccionar, de entre varias opciones, un valor al azar con una probabilidad determinada\n",
        "\n",
        "Parámetros:\n",
        "------------------------------------------------------------------------------------------\n",
        "    Nombre de las profesiones: \"Ingenieria\", \"Licenciatura\", \"Tecnologia\"\n",
        "    Probabilidad de seleccionar un valor: p = [1/3, 1/3,1/3]\n",
        "\n",
        "Retorno: \n",
        "------------------------------------------------------------------------------------------\n",
        "    Cadena de caracteres que incluye el tipo de carrera\n",
        "\n",
        "\"\"\"\n",
        "\n",
        "# Generar los nombres de carrera\n",
        "for i in range(numeroDatosSinteticos):\n",
        "  # Generar datos sintéticos para el del nombre de la carrera, con una probabilidad de 1/3 para cada uno\n",
        "  nombre_carrera = np.random.choice([\"Ingeniería\", \"Licenciatura\", \"Tecnología\"], p=[1/3, 1/3,1/3])\n",
        "  # Crear el nombre de carrera utilizando fake.job para generar una profesión sintética\n",
        "  carrera = nombre_carrera + \" en \" + fake.job()\n",
        "  # Guardar los nombres de carrera en el DataFrame\n",
        "  df.Nombre_Car[i] = carrera"
      ]
    },
    {
      "cell_type": "code",
      "execution_count": null,
      "metadata": {
        "id": "K2f5qItS8rAo"
      },
      "outputs": [],
      "source": [
        "\"\"\"\n",
        "\n",
        "Paragraph es un módulo de la librería Faker que permitegenerar párrafos con una o más oraciones sintéticas\n",
        "\n",
        "Parámetros:\n",
        "------------------------------------------------------------------------------------------\n",
        "    nb_sentences: El número de oraciones que se desea generar.\n",
        "\n",
        "Retorno: \n",
        "------------------------------------------------------------------------------------------\n",
        "    Cadena de caracteres que incluye la descripción de la carrera en formato de Lorem Ipsum\n",
        "\n",
        "\"\"\"\n",
        "# Generar las descripciones sintéticas\n",
        "for i in range(numeroDatosSinteticos):\n",
        "  # Crear un párrafo con tres oraciones\n",
        "  descripcion = fake.paragraph(nb_sentences=3)\n",
        "  #Guardar la descripción en el DataFrame\n",
        "  df.Descrip_Car[i]=descripcion"
      ]
    },
    {
      "cell_type": "code",
      "execution_count": null,
      "metadata": {
        "id": "kgkpC1628uxf"
      },
      "outputs": [],
      "source": [
        "\"\"\"\n",
        "\n",
        "Choice es un módulo de la librería NumPy que permite seleccionar, de entre varias opciones, un valor al azar con una probabilidad determinada\n",
        "\n",
        "Parámetros:\n",
        "------------------------------------------------------------------------------------------\n",
        "    estadoOpciones: Valores que puede tomar el estado\n",
        "\n",
        "Retorno: \n",
        "------------------------------------------------------------------------------------------\n",
        "    Cadena de caracteres que incluye el estado de la carrera\n",
        "\n",
        "\n",
        "\"\"\"\n",
        "#Crear las opciones de estado\n",
        "estadoOpciones = [\"Activo\", \"Inactivo\"]\n",
        "# Generar los estados sintéticos\n",
        "for i in range(numeroDatosSinteticos):\n",
        "  # Seleccionar de forma aleatoria uno de los estados\n",
        "  estado = random.choice(estadoOpciones)\n",
        "  # Guardar el estado en el DataFrame\n",
        "  df.Estado_Car[i]=estado"
      ]
    },
    {
      "cell_type": "code",
      "execution_count": null,
      "metadata": {
        "id": "kVJpVywWBzJM"
      },
      "outputs": [],
      "source": [
        "\"\"\"\n",
        "\n",
        "Choice es un módulo de la librería NumPy que permite seleccionar, de entre varias opciones, un valor al azar con una probabilidad determinada\n",
        "\n",
        "Parámetros:\n",
        "------------------------------------------------------------------------------------------\n",
        "    modalidadOpciones: Valores que puede tomar la modalidad\n",
        "\n",
        "Retorno: \n",
        "------------------------------------------------------------------------------------------\n",
        "    Cadena de caracteres que incluye la modalidad de la carrera\n",
        "\n",
        "\n",
        "\"\"\"\n",
        "# Crear las opciones de modalidad que existen\n",
        "modalidadOpciones = [\"Presencial\", \"Distancia\", \"En linea\"]\n",
        "# Generar sintéticamente el tipo de modalidad para cada carrera\n",
        "for i in range(numeroDatosSinteticos):\n",
        "  # Elegir una modalidad al azar de entre las opciones\n",
        "  modalidad = random.choice(modalidadOpciones)\n",
        "  # Guardar el valor en el DataFrame\n",
        "  df.Modalidad_Car[i]=modalidad"
      ]
    },
    {
      "cell_type": "code",
      "execution_count": null,
      "metadata": {
        "id": "Mvm4qhV-B7vK"
      },
      "outputs": [],
      "source": [
        "\"\"\"\n",
        "\n",
        "Choice es un módulo de la librería NumPy que permite seleccionar, de entre varias opciones, un valor al azar con una probabilidad determinada\n",
        "\n",
        "Parámetros:\n",
        "------------------------------------------------------------------------------------------\n",
        "    jornadaOpciones: Valores que puede tomar la jornada\n",
        "\n",
        "Retorno: \n",
        "------------------------------------------------------------------------------------------\n",
        "    Cadena de caracteres que incluye la jornada de la carrera\n",
        "\n",
        "\n",
        "\"\"\"\n",
        "# Crear las opciones de jornada que existen\n",
        "jornadaOpciones = [\"Intensiva\", \"Matutina\", \"Vespertina\", \"En linea\"]\n",
        "# Generar sintéticamente el tipo de jornada para cada carrera\n",
        "for i in range(numeroDatosSinteticos):\n",
        "  # Elegir una jornada al azar de entre las opciones\n",
        "  jornada = random.choice(jornadaOpciones)\n",
        "  # Guardar el valor en el DataFrame\n",
        "  df.Jornada_Car[i]=jornada"
      ]
    },
    {
      "cell_type": "code",
      "execution_count": null,
      "metadata": {
        "id": "tuAV_0C_846W"
      },
      "outputs": [],
      "source": [
        "\"\"\"\n",
        "\n",
        "date_between es un módulo de la librería Faker que permite seleccionar una fecha al azar entre un rango de fechas determinadas.\n",
        "\n",
        "Parámetros:\n",
        "------------------------------------------------------------------------------------------\n",
        "    Fecha_inicio: Fecha de inicio del rango \n",
        "    Fecha_fin: Fecha de fin del rango\n",
        "\n",
        "Retorno: \n",
        "------------------------------------------------------------------------------------------\n",
        "    Fecha de tipo datetime\n",
        "\n",
        "\"\"\"\n",
        "# Crear las fechas de inicio de vigencia de carrera que existen\n",
        "for i in range(numeroDatosSinteticos):\n",
        "  # Generar sintéticamente la fecha de vigencia de la carrera\n",
        "  fecha_inicio_vigencia_carrera = fake.date_between(datetime.date(1940, 1, 1), datetime.date(1980, 1, 1))\n",
        "  # Guardar el valor en el DataFrame\n",
        "  df.Fecha_Vigencia_Car[i]=fecha_inicio_vigencia_carrera"
      ]
    },
    {
      "cell_type": "code",
      "execution_count": null,
      "metadata": {
        "id": "4W0H1QxE681j"
      },
      "outputs": [],
      "source": [
        "# Crear el CSV a partir del DataFrame\n",
        "df.to_csv('carreras.csv')"
      ]
    }
  ],
  "metadata": {
    "colab": {
      "provenance": []
    },
    "kernelspec": {
      "display_name": "Python 3",
      "name": "python3"
    },
    "language_info": {
      "name": "python"
    }
  },
  "nbformat": 4,
  "nbformat_minor": 0
}