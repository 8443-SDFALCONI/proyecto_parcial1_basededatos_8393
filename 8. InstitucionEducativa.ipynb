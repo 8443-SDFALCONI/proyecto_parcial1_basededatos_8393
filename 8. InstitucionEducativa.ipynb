{
  "nbformat": 4,
  "nbformat_minor": 0,
  "metadata": {
    "colab": {
      "provenance": []
    },
    "kernelspec": {
      "name": "python3",
      "display_name": "Python 3"
    },
    "language_info": {
      "name": "python"
    }
  },
  "cells": [
    {
      "cell_type": "markdown",
      "source": [
        "**ENTIDAD InstitucionEducativa**"
      ],
      "metadata": {
        "id": "iGw1N39SyYMA"
      }
    },
    {
      "cell_type": "code",
      "execution_count": null,
      "metadata": {
        "colab": {
          "base_uri": "https://localhost:8080/"
        },
        "id": "v8JdTZ5Mw18V",
        "outputId": "24cb9c94-c97a-4f71-bbe3-6a9e493aca6e"
      },
      "outputs": [
        {
          "output_type": "stream",
          "name": "stdout",
          "text": [
            "Looking in indexes: https://pypi.org/simple, https://us-python.pkg.dev/colab-wheels/public/simple/\n",
            "Collecting Faker\n",
            "  Downloading Faker-15.3.4-py3-none-any.whl (1.6 MB)\n",
            "\u001b[K     |████████████████████████████████| 1.6 MB 5.3 MB/s \n",
            "\u001b[?25hRequirement already satisfied: python-dateutil>=2.4 in /usr/local/lib/python3.8/dist-packages (from Faker) (2.8.2)\n",
            "Requirement already satisfied: six>=1.5 in /usr/local/lib/python3.8/dist-packages (from python-dateutil>=2.4->Faker) (1.15.0)\n",
            "Installing collected packages: Faker\n",
            "Successfully installed Faker-15.3.4\n"
          ]
        }
      ],
      "source": [
        "#Instalamos la libreria faker para la generación de nombres aleatorios. \n",
        "!pip install Faker"
      ]
    },
    {
      "cell_type": "code",
      "source": [
        "#Importamos las librerias necesarias para la generación de datos.\n",
        "#Importamos la libreria pandas para el manejo y estructuración de los datos sinteticos\n",
        "import pandas as pd\n",
        "#Importamos la libreria uuid para la generacion de codigos Ids propios\n",
        "import uuid\n",
        "#Importamos la libreria random para generacion de numeros randomicos\n",
        "import random\n",
        "#Importamos la libreria faker para generacion de nombres aleatorios\n",
        "from faker import Factory\n",
        "#Importamos la libreria datetime para las fechas\n",
        "import datetime\n",
        "# Cambiar la traducción de los datos sintéticos generados con la librería Faker\n",
        "fake = Factory.create(\"es-ES\")"
      ],
      "metadata": {
        "id": "dCe5It5XxBD-"
      },
      "execution_count": null,
      "outputs": []
    },
    {
      "cell_type": "code",
      "source": [
        "#Variable para la creación de los 5000 datos.\n",
        "num_aspirantes = 5000"
      ],
      "metadata": {
        "id": "LjhKok5NxC7I"
      },
      "execution_count": null,
      "outputs": []
    },
    {
      "cell_type": "code",
      "source": [
        "# Una lista de 7 atributos\n",
        "atributos = [\n",
        "    \"Id_IE\",\n",
        "    \"Nombre_IE\",\n",
        "    \"Correo_IE\",\n",
        "    \"Telefono_IE\",\n",
        "    \"Descrip_IE\",\n",
        "    \"Estado_IE\",\n",
        "    \"Tipo_IE\",\n",
        "]# Creamos un DF de los atributos\n",
        "df = pd.DataFrame(columns=atributos)"
      ],
      "metadata": {
        "id": "BNt3zj7wyT4N"
      },
      "execution_count": null,
      "outputs": []
    },
    {
      "cell_type": "code",
      "source": [
        "\"\"\"\n",
        "UUID1 permite generar un ID único a partir de una secuencia de números y el tiempo actual.\n",
        "\n",
        "Parámetros:\n",
        "------------------------------------------------------------------------------------------\n",
        "    No se envió parámetros\n",
        "\n",
        "Retorno: \n",
        "------------------------------------------------------------------------------------------\n",
        "    Secuencia de número de 14-bits\n",
        "\"\"\"\n",
        "# Generar los 5000 IDs para los datos sintéticos y guardarlos en la columna del DataFrame\n",
        "df.Id_IE = [uuid.uuid1() for i in range(num_aspirantes)]"
      ],
      "metadata": {
        "id": "UH16Ssduy3kC"
      },
      "execution_count": null,
      "outputs": []
    },
    {
      "cell_type": "code",
      "source": [
        "\"\"\"\n",
        "\n",
        "first_name es un módulo de la librería Faker que permite  generar un primer nombre aleatorio\n",
        "\n",
        "Parámetros:\n",
        "------------------------------------------------------------------------------------------\n",
        "    No se enviaron parámetros\n",
        "\n",
        "Retorno: \n",
        "------------------------------------------------------------------------------------------\n",
        "    Cadena de caracteres que incluye el primer nombre\n",
        "    \n",
        "last_name es un módulo de la librería Faker que permite  generar un apellido aleatorio\n",
        "\n",
        "Parámetros:\n",
        "------------------------------------------------------------------------------------------\n",
        "    No se enviaron parámetros\n",
        "\n",
        "Retorno: \n",
        "------------------------------------------------------------------------------------------\n",
        "    Cadena de caracteres que incluye el apellido\n",
        "\n",
        "lower es un módulo de la librería estandar de Python que permite convertir un texto completo a letras minúsculas\n",
        "\n",
        "Parámetros:\n",
        "------------------------------------------------------------------------------------------\n",
        "    No se enviaron parámetros\n",
        "\n",
        "Retorno: \n",
        "------------------------------------------------------------------------------------------\n",
        "    Cadena de caracteres con todas las letras en minúsculas\n",
        "     \n",
        "\"\"\"\n",
        "#Crear e inicializar las variables\n",
        "nombre = ''\n",
        "apellido = ''\n",
        "institucion=[\"Instituto \",\"Universidad \"]\n",
        "# Crear los 5000 datos sintéticos\n",
        "for i in range(5000):\n",
        "  # Generar un nombre\n",
        "  nombre = fake.first_name()\n",
        "  # Generar un apellido\n",
        "  apellido = fake.last_name()\n",
        "  # Generar un nombre de un instituto concatenando el nombre y el apellido\n",
        "  df.Nombre_IE[i] = random.choice(institucion) + nombre + ' ' + apellido\n",
        "  # Generar un email a partir del nombre y el apellido\n",
        "  email = f\"{nombre}.{apellido}@hotmail.com\"\n",
        "  # Transformar el email a lowercase (letras minusculas)\n",
        "  email = email.lower()\n",
        "  # Guardar el valor del email\n",
        "  df.Correo_IE[i] = email"
      ],
      "metadata": {
        "id": "PQNPHXeOzX_1"
      },
      "execution_count": null,
      "outputs": []
    },
    {
      "cell_type": "code",
      "source": [
        "\"\"\"\n",
        "\n",
        "randint es un módulo de la librería random que permite  generar un valor aleatorio numérico de tipo entero\n",
        "\n",
        "Parámetros:\n",
        "------------------------------------------------------------------------------------------\n",
        "    valorInicial: El valor inicial del rango\n",
        "    valorFinal: El valor final del rango\n",
        "\n",
        "Retorno: \n",
        "------------------------------------------------------------------------------------------\n",
        "    Un número entero aleatorio\n",
        "\n",
        "\"\"\"\n",
        "# Generar los 5000 datos sintéticos del teléfono\n",
        "for i in range(num_aspirantes):\n",
        "  # Colocar los dos primeros números que son comúnes en Ecuador\n",
        "  telefono = '09'\n",
        "  # Generar los números restantes seguidos del 09 que puede ser cualquier dígito entre 0 y 9\n",
        "  for _ in range(2, 10):\n",
        "    # Generar un dígito aleatorio entre 0 y 9 y concatenarlo con los dígitos anteriores\n",
        "    telefono = telefono + str(random.randint(0, 9))\n",
        "  # Guardar los valores del telefono en el DataFrame\n",
        "  df.Telefono_IE[i]=telefono"
      ],
      "metadata": {
        "id": "9FCZA1qM07k1"
      },
      "execution_count": null,
      "outputs": []
    },
    {
      "cell_type": "code",
      "source": [
        "\"\"\"\n",
        "\n",
        "Paragraph es un módulo de la librería Faker que permitegenerar párrafos con una o más oraciones sintéticas\n",
        "\n",
        "Parámetros:\n",
        "------------------------------------------------------------------------------------------\n",
        "    nb_sentences: El número de oraciones que se desea generar.\n",
        "\n",
        "Retorno: \n",
        "------------------------------------------------------------------------------------------\n",
        "    Cadena de caracteres que incluye la descripción de la institucion educativa en formato de Lorem Ipsum\n",
        "\n",
        "\"\"\"\n",
        "# Generar las descripciones sintéticas\n",
        "for i in range(num_aspirantes):\n",
        "  # Crear un párrafo con tres oraciones\n",
        "  descripcion = fake.paragraph(nb_sentences=3)\n",
        "  #Guardar la descripción en el DataFrame\n",
        "  df.Descrip_IE[i]=descripcion"
      ],
      "metadata": {
        "id": "QEqJIcfz1Y8Z"
      },
      "execution_count": null,
      "outputs": []
    },
    {
      "cell_type": "code",
      "source": [
        "\"\"\"\n",
        "\n",
        "Choice es un módulo de la librería NumPy que permite seleccionar, de entre varias opciones, un valor al azar con una probabilidad determinada\n",
        "\n",
        "Parámetros:\n",
        "------------------------------------------------------------------------------------------\n",
        "    estadoOpciones: Valores que puede tomar el estado\n",
        "\n",
        "Retorno: \n",
        "------------------------------------------------------------------------------------------\n",
        "    Cadena de caracteres que incluye el estado de la institucion educativa\n",
        "\n",
        "\n",
        "\"\"\"\n",
        "#Crear las opciones de estado\n",
        "estadoOpciones = [\"Activo\", \"Inactivo\"]\n",
        "# Generar los estados sintéticos\n",
        "for i in range(num_aspirantes):\n",
        "  # Seleccionar de forma aleatoria uno de los estados\n",
        "  estado = random.choice(estadoOpciones)\n",
        "  # Guardar el estado en el DataFrame\n",
        "  df.Estado_IE[i]=estado"
      ],
      "metadata": {
        "id": "SkzeyBSy1-M6"
      },
      "execution_count": null,
      "outputs": []
    },
    {
      "cell_type": "code",
      "source": [
        "\"\"\"\n",
        "\n",
        "Choice es un módulo de la librería NumPy que permite seleccionar, de entre varias opciones, un valor al azar con una probabilidad determinada\n",
        "\n",
        "Parámetros:\n",
        "------------------------------------------------------------------------------------------\n",
        "    estadoOpciones: Valores que puede tomar el tipo de institucion educativa\n",
        "\n",
        "Retorno: \n",
        "------------------------------------------------------------------------------------------\n",
        "    Cadena de caracteres que incluye el tipo de institucion educativa\n",
        "\n",
        "\n",
        "\"\"\"\n",
        "#Crear las opciones de estado\n",
        "estadoOpciones = [\"Rural\", \"Urbano\"]\n",
        "# Generar los estados sintéticos\n",
        "for i in range(num_aspirantes):\n",
        "  # Seleccionar de forma aleatoria uno de los estados\n",
        "  estado = random.choice(estadoOpciones)\n",
        "  # Guardar el estado en el DataFrame\n",
        "  df.Tipo_IE[i]=estado"
      ],
      "metadata": {
        "id": "mAljl2fD2Nn5"
      },
      "execution_count": null,
      "outputs": []
    },
    {
      "cell_type": "code",
      "source": [
        "# Crear el CSV a partir del DataFrame\n",
        "df.to_csv('institucioneducativa.csv')"
      ],
      "metadata": {
        "id": "4vg4kw7MzAFM"
      },
      "execution_count": null,
      "outputs": []
    },
    {
      "cell_type": "code",
      "source": [],
      "metadata": {
        "id": "W8WylZafzLPN"
      },
      "execution_count": null,
      "outputs": []
    }
  ]
}